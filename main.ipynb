{
  "nbformat": 4,
  "nbformat_minor": 0,
  "metadata": {
    "colab": {
      "provenance": [],
      "authorship_tag": "ABX9TyM2MNFhAvf5oQTEDuy2bWVn"
    },
    "kernelspec": {
      "name": "python3",
      "display_name": "Python 3"
    },
    "language_info": {
      "name": "python"
    }
  },
  "cells": [
    {
      "cell_type": "markdown",
      "source": [
        "#Project 12 - FIFA Player Value Prediction\n",
        "\n",
        "---\n",
        "###Group: 1\n",
        "###Section: C02\n",
        "###Members: Aleksandar Georgievski (400248584), Vasisht Vikram Chari (001404120), Basem Yassa (400013113), Tie Jiang (001427611)"
      ],
      "metadata": {
        "id": "taqI90p0145T"
      }
    },
    {
      "cell_type": "markdown",
      "source": [
        "#Data Pre-Processing"
      ],
      "metadata": {
        "id": "Ai5iRVA24lN8"
      }
    },
    {
      "cell_type": "code",
      "execution_count": null,
      "metadata": {
        "id": "GfNQTBPx1sUE"
      },
      "outputs": [],
      "source": [
#Import all relevant libraries for code
import pandas as pd
import numpy as np
import seaborn as sns
import matplotlib.pyplot as plt
import tensorflow as tf
from sklearn import preprocessing
from sklearn.model_selection import train_test_split
from sklearn.preprocessing import StandardScaler
from sklearn.utils import resample
from tensorflow.keras.models import Sequential
from tensorflow.keras.layers import Dense, Dropout
from tensorflow.keras.optimizers.legacy import Adam
from tensorflow.keras.callbacks import EarlyStopping
import io
from sklearn import model_selection
from sklearn.preprocessing import scale
from sklearn.model_selection import RepeatedKFold
from sklearn.cross_decomposition import PLSRegression
from sklearn.metrics import mean_squared_error
      ]
    },
    {
      "cell_type": "markdown",
      "source": [
        "#Training the Model"
      ],
      "metadata": {
        "id": "GxNqYhnC4uLT"
      }
    },
    {
      "cell_type": "code",
      "source": [
        
      ],
      "metadata": {
        "id": "qThENvZL4wMj"
      },
      "execution_count": null,
      "outputs": []
    },
    {
      "cell_type": "markdown",
      "source": [
        "#Identifying the Best Model for Training"
      ],
      "metadata": {
        "id": "EwVoQVvi4wbC"
      }
    },
    {
      "cell_type": "code",
      "source": [
        "# Start Code Here"
      ],
      "metadata": {
        "id": "se60fiQT42Ms"
      },
      "execution_count": null,
      "outputs": []
    },
    {
      "cell_type": "markdown",
      "source": [
        "#Evaluating Results Using Various Metrics and Measurements"
      ],
      "metadata": {
        "id": "16OOdBR545NQ"
      }
    },
    {
      "cell_type": "code",
      "source": [
        "# Start Code Here"
      ],
      "metadata": {
        "id": "qxD6-y3k47M1"
      },
      "execution_count": null,
      "outputs": []
    }
  ]
}
